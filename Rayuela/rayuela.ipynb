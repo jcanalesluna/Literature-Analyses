{
 "cells": [
  {
   "cell_type": "code",
   "execution_count": 1,
   "metadata": {},
   "outputs": [
    {
     "name": "stderr",
     "output_type": "stream",
     "text": [
      "[nltk_data] Downloading package stopwords to\n",
      "[nltk_data]     /Users/javiercanalesluna/nltk_data...\n",
      "[nltk_data]   Package stopwords is already up-to-date!\n"
     ]
    },
    {
     "data": {
      "text/plain": [
       "True"
      ]
     },
     "execution_count": 1,
     "metadata": {},
     "output_type": "execute_result"
    }
   ],
   "source": [
    "import pandas as pd\n",
    "import numpy as np\n",
    "import re\n",
    "from collections import Counter\n",
    "import seaborn as sns\n",
    "import matplotlib.pyplot as plt\n",
    "from nltk.tokenize import RegexpTokenizer\n",
    "from nltk.corpus import stopwords\n",
    "import nltk\n",
    "nltk.download('stopwords')"
   ]
  },
  {
   "cell_type": "code",
   "execution_count": 2,
   "metadata": {},
   "outputs": [
    {
     "name": "stdout",
     "output_type": "stream",
     "text": [
      "common_words_rayuela.csv rayuela.ipynb            rayuela.txt\n"
     ]
    }
   ],
   "source": [
    "!ls"
   ]
  },
  {
   "cell_type": "code",
   "execution_count": 3,
   "metadata": {},
   "outputs": [
    {
     "name": "stdout",
     "output_type": "stream",
     "text": [
      "Rayuela\n",
      "\n",
      "JULIO CORTÁZAR\n",
      "\n",
      "\n",
      "TABLERO DE DIRECCIÓN\n",
      "\n",
      "A su manera este libro es muchos libros, pero sobre todo es dos libros.\n",
      "\n",
      "El primero se deja leer en la forma corriente, y termina en el capítulo 56, al\n",
      "\n"
     ]
    }
   ],
   "source": [
    "f = open(\"./rayuela.txt\", \"r\")\n",
    "print(f.read(200))"
   ]
  },
  {
   "cell_type": "code",
   "execution_count": 4,
   "metadata": {},
   "outputs": [],
   "source": [
    "strings = ' '.join(f)"
   ]
  },
  {
   "cell_type": "code",
   "execution_count": 5,
   "metadata": {},
   "outputs": [],
   "source": [
    "palabras = strings.lower() \n"
   ]
  },
  {
   "cell_type": "code",
   "execution_count": 6,
   "metadata": {},
   "outputs": [],
   "source": [
    "lista = palabras.split(\" \")\n"
   ]
  },
  {
   "cell_type": "code",
   "execution_count": 7,
   "metadata": {},
   "outputs": [],
   "source": [
    "important_words=[]\n",
    "for word in lista:\n",
    "    if word not in stopwords.words('spanish'):\n",
    "        important_words.append(word)\n"
   ]
  },
  {
   "cell_type": "code",
   "execution_count": 8,
   "metadata": {},
   "outputs": [],
   "source": [
    "important_words = list(filter(None, important_words))"
   ]
  },
  {
   "cell_type": "code",
   "execution_count": 9,
   "metadata": {},
   "outputs": [],
   "source": [
    "important_words2= list(map(str.strip,important_words))\n"
   ]
  },
  {
   "cell_type": "code",
   "execution_count": 10,
   "metadata": {},
   "outputs": [],
   "source": [
    "important_words3 = list(filter(None, important_words2))"
   ]
  },
  {
   "cell_type": "code",
   "execution_count": 11,
   "metadata": {},
   "outputs": [
    {
     "data": {
      "text/plain": [
       "['pie',\n",
       " 'tres',\n",
       " 'vistosas',\n",
       " 'estrellitas',\n",
       " 'equivalen',\n",
       " 'palabra',\n",
       " 'fin.',\n",
       " 'por',\n",
       " 'consiguiente,',\n",
       " 'lector',\n",
       " 'prescindirá',\n",
       " 'remordimientos',\n",
       " 'sigue.',\n",
       " 'segundo',\n",
       " 'deja',\n",
       " 'leer',\n",
       " 'empezando',\n",
       " 'capítulo',\n",
       " '73',\n",
       " 'siguiendo']"
      ]
     },
     "execution_count": 11,
     "metadata": {},
     "output_type": "execute_result"
    }
   ],
   "source": [
    "important_words3[0:20]"
   ]
  },
  {
   "cell_type": "code",
   "execution_count": 12,
   "metadata": {},
   "outputs": [],
   "source": [
    "important_words4 = str(important_words3)"
   ]
  },
  {
   "cell_type": "code",
   "execution_count": 13,
   "metadata": {},
   "outputs": [],
   "source": [
    "# define punctuation\n",
    "punctuations = '''!()--[]{};:'\"\\—,<>./¡¿?@#$%^&*_~'''\n",
    "\n",
    "# To take input from the user\n",
    "# my_str = input(\"Enter a string: \")\n",
    "\n",
    "# remove punctuation from the string\n",
    "no_punct = \"\"\n",
    "for char in important_words4:\n",
    "   if char not in punctuations:\n",
    "       no_punct = no_punct + char\n"
   ]
  },
  {
   "cell_type": "code",
   "execution_count": 14,
   "metadata": {},
   "outputs": [],
   "source": [
    "# create a bag of words\n",
    "tokenizer = RegexpTokenizer('\\s+', gaps=True)\n",
    "genres_tokens = tokenizer.tokenize(no_punct)"
   ]
  },
  {
   "cell_type": "code",
   "execution_count": 15,
   "metadata": {},
   "outputs": [],
   "source": [
    "important_words5= [i.replace('—','') for i in genres_tokens] \n"
   ]
  },
  {
   "cell_type": "code",
   "execution_count": null,
   "metadata": {},
   "outputs": [],
   "source": [
    "important_words6=[]\n",
    "for word in important_words5:\n",
    "    if word not in stopwords.words('spanish'):\n",
    "        important_words6.append(word)\n"
   ]
  },
  {
   "cell_type": "code",
   "execution_count": null,
   "metadata": {},
   "outputs": [],
   "source": [
    "# count the most common genres\n",
    "word_count_dict = Counter(w for w in important_words6)"
   ]
  },
  {
   "cell_type": "code",
   "execution_count": null,
   "metadata": {},
   "outputs": [],
   "source": [
    "# convert bag of words to dic\n",
    "dict_genres = dict(word_count_dict.most_common())"
   ]
  },
  {
   "cell_type": "code",
   "execution_count": null,
   "metadata": {},
   "outputs": [],
   "source": [
    "palabras_rayuela = dict()\n",
    "# Iterate over all the items in dictionary and filter items which has even keys\n",
    "for (key, value) in dict_genres.items():\n",
    "   # Check if key is even then add pair to new dictionary\n",
    "   if value > 20:\n",
    "       palabras_rayuela[key] = value"
   ]
  },
  {
   "cell_type": "code",
   "execution_count": null,
   "metadata": {},
   "outputs": [],
   "source": [
    "df = pd.DataFrame(data=palabras_rayuela, index=[0])\n",
    "\n",
    "df = (df.T)\n",
    "\n",
    "df\n"
   ]
  },
  {
   "cell_type": "code",
   "execution_count": 150,
   "metadata": {},
   "outputs": [],
   "source": [
    "df.to_csv('palabras_rayuela.csv')"
   ]
  },
  {
   "cell_type": "code",
   "execution_count": null,
   "metadata": {},
   "outputs": [],
   "source": []
  },
  {
   "cell_type": "code",
   "execution_count": null,
   "metadata": {},
   "outputs": [],
   "source": []
  }
 ],
 "metadata": {
  "kernelspec": {
   "display_name": "Python 3",
   "language": "python",
   "name": "python3"
  },
  "language_info": {
   "codemirror_mode": {
    "name": "ipython",
    "version": 3
   },
   "file_extension": ".py",
   "mimetype": "text/x-python",
   "name": "python",
   "nbconvert_exporter": "python",
   "pygments_lexer": "ipython3",
   "version": "3.7.7"
  }
 },
 "nbformat": 4,
 "nbformat_minor": 4
}
